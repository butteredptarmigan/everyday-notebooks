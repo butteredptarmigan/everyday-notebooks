{
 "cells": [
  {
   "cell_type": "markdown",
   "metadata": {},
   "source": [
    "# Palety *Flat UI Colors*\n",
    "\n",
    "```\n",
    "```\n",
    "\n",
    "Struktura:\n",
    "- każda paleta składa się z **20** kolorów zorganizowanych w siatce **4 x 5**,\n",
    "- rodzicem siatki jest `div` o klasie `colors`,\n",
    "- każdy kolor reprezentowany jest przez `div` o klasie `color`,\n",
    "- nazwa koloru to `span` będący bezpośrednim dzieckiem bloku, nie posiada żadnej charakterystycznej klasy;\n",
    "\n",
    "Formatem docelowym jest zbiór natywnych zmiennych CSS lub zbiór zmiennych języka Less, opcjonalnie zorganizowanych w mapie klucz-wartość. Kluczem/nazwą zmiennej będzie nazwa koloru nadana przez projektanta, w notacji kebab case. \n",
    "\n",
    "Niektóre nazwy mają znaki niedozwolone w zmiennej – program pozostawia je w takiej samej formie, pozwalając na dostosowanie ich we własnym zakresie.\n",
    "\n",
    "Style parsowane są za pomocą wyrażeń regularnych, ponieważ moduł `cssutils` nie posiada jeszcze udokumentowanej zdolności parsowania pojedynczych zasad zamiast całych arkuszy."
   ]
  },
  {
   "cell_type": "code",
   "execution_count": 1,
   "metadata": {},
   "outputs": [],
   "source": [
    "import re\n",
    "from time import sleep\n",
    "\n",
    "from selenium import webdriver\n",
    "from bs4 import BeautifulSoup"
   ]
  },
  {
   "cell_type": "markdown",
   "metadata": {},
   "source": [
    "```\n",
    "\n",
    "```\n",
    "## Deklaracje"
   ]
  },
  {
   "cell_type": "code",
   "execution_count": 2,
   "metadata": {},
   "outputs": [],
   "source": [
    "def extract_color(element):\n",
    "    name = element.find('span').string\n",
    "    style = element['style']\n",
    "    \n",
    "    color = re.search(r'background(?:\\-color)*:\\s*(rgb(?:a)*.*)\\;', style).group(1)\n",
    "    color = parse_rgb(color)\n",
    "    \n",
    "    return (name, color)"
   ]
  },
  {
   "cell_type": "code",
   "execution_count": 3,
   "metadata": {},
   "outputs": [],
   "source": [
    "def get_palette(driver, abbr: str) -> dict:\n",
    "    url = 'https://flatuicolors.com/palette/{}'.format(abbr)\n",
    "    site = driver.get(url)\n",
    "    sleep(1)\n",
    "    soup = BeautifulSoup(driver.page_source)\n",
    "    driver.close()\n",
    "    \n",
    "    color_nodes = soup.find_all('div', class_='color')\n",
    "    extracted = [extract_color(node) for node in color_nodes]\n",
    "    colors = {name: rgb_to_hex(color) for name, color in extracted}\n",
    "    \n",
    "    return colors"
   ]
  },
  {
   "cell_type": "markdown",
   "metadata": {},
   "source": [
    "```\n",
    "\n",
    "```"
   ]
  },
  {
   "cell_type": "code",
   "execution_count": 4,
   "metadata": {},
   "outputs": [],
   "source": [
    "def kebab(name: str):\n",
    "    return name.lower().replace(' ', '-')"
   ]
  },
  {
   "cell_type": "code",
   "execution_count": 5,
   "metadata": {},
   "outputs": [],
   "source": [
    "def format_var(name: str, color: str, prefix=''):\n",
    "    template = '{}: {};'\n",
    "    name = kebab(name)\n",
    "    \n",
    "    return prefix + template.format(name, color)"
   ]
  },
  {
   "cell_type": "code",
   "execution_count": 6,
   "metadata": {},
   "outputs": [],
   "source": [
    "def format_ruleset(container: str, colors: dict, prefix: str):\n",
    "    template = '{}: {{\\n    {}\\n}}';\n",
    "    colors = [format_var(name, color, prefix) for name, color in colors.items()]\n",
    "    ruleset = '\\n    '.join(colors)\n",
    "    \n",
    "    return template.format(container, ruleset)"
   ]
  },
  {
   "cell_type": "code",
   "execution_count": 7,
   "metadata": {},
   "outputs": [],
   "source": [
    "def format_less_ruleset(name: str, colors: dict):\n",
    "    return format_ruleset('@' + name, colors, '')\n",
    "\n",
    "def format_css_ruleset(colors: dict, container: str = ':root'):\n",
    "    return format_ruleset(container, colors, '--')"
   ]
  },
  {
   "cell_type": "code",
   "execution_count": 8,
   "metadata": {},
   "outputs": [],
   "source": [
    "def format_less_variables(colors: dict):\n",
    "    variables = [format_var(name, color, '@') for name, color in colors.items()]\n",
    "    \n",
    "    return '\\n'.join(variables)"
   ]
  },
  {
   "cell_type": "markdown",
   "metadata": {},
   "source": [
    "```\n",
    "\n",
    "```"
   ]
  },
  {
   "cell_type": "code",
   "execution_count": 9,
   "metadata": {},
   "outputs": [],
   "source": [
    "def rgb_to_hex(rgb):\n",
    "    rgb = tuple(rgb)\n",
    "    return '#%02x%02x%02x' % rgb"
   ]
  },
  {
   "cell_type": "code",
   "execution_count": 10,
   "metadata": {},
   "outputs": [],
   "source": [
    "def parse_rgb(rgb):\n",
    "    pattern = r'rgb\\(\\s*(\\d{1,3})\\s*,\\s*(\\d{1,3})\\s*,\\s*(\\d{1,3})\\s*\\)'\n",
    "    match = re.search(pattern, rgb)\n",
    "    distinct = [int(value) for value in match.group(1, 2, 3)]\n",
    "    \n",
    "    return distinct"
   ]
  },
  {
   "cell_type": "markdown",
   "metadata": {},
   "source": [
    "```\n",
    "\n",
    "```\n",
    "## Użycie"
   ]
  },
  {
   "cell_type": "code",
   "execution_count": 11,
   "metadata": {},
   "outputs": [],
   "source": [
    "driver = webdriver.Chrome('chromedriver')"
   ]
  },
  {
   "cell_type": "code",
   "execution_count": 12,
   "metadata": {},
   "outputs": [],
   "source": [
    "prefix = 'es'\n",
    "colors = get_palette(driver, prefix)"
   ]
  },
  {
   "cell_type": "code",
   "execution_count": 13,
   "metadata": {},
   "outputs": [
    {
     "name": "stdout",
     "output_type": "stream",
     "text": [
      "@jacksons-purple: #40407a;\n",
      "@c64-purple: #706fd3;\n",
      "@swan-white: #f7f1e3;\n",
      "@summer-sky: #34ace0;\n",
      "@celestial-green: #33d9b2;\n",
      "@lucky-point: #2c2c54;\n",
      "@liberty: #474787;\n",
      "@hot-stone: #aaa69d;\n",
      "@devil-blue: #227093;\n",
      "@palm-springs-splash: #218c74;\n",
      "@fluorescent-red: #ff5252;\n",
      "@synthetic-pumpkin: #ff793f;\n",
      "@crocodile-tooth: #d1ccc0;\n",
      "@mandarin-sorbet: #ffb142;\n",
      "@spiced-butternut: #ffda79;\n",
      "@eye-of-newt: #b33939;\n",
      "@chilean-fire: #cd6133;\n",
      "@grey-porcelain: #84817a;\n",
      "@alameda-ochre: #cc8e35;\n",
      "@desert: #ccae62;\n"
     ]
    }
   ],
   "source": [
    "print(format_less_variables(colors))"
   ]
  },
  {
   "cell_type": "code",
   "execution_count": 14,
   "metadata": {},
   "outputs": [
    {
     "name": "stdout",
     "output_type": "stream",
     "text": [
      "@es: {\n",
      "    jacksons-purple: #40407a;\n",
      "    c64-purple: #706fd3;\n",
      "    swan-white: #f7f1e3;\n",
      "    summer-sky: #34ace0;\n",
      "    celestial-green: #33d9b2;\n",
      "    lucky-point: #2c2c54;\n",
      "    liberty: #474787;\n",
      "    hot-stone: #aaa69d;\n",
      "    devil-blue: #227093;\n",
      "    palm-springs-splash: #218c74;\n",
      "    fluorescent-red: #ff5252;\n",
      "    synthetic-pumpkin: #ff793f;\n",
      "    crocodile-tooth: #d1ccc0;\n",
      "    mandarin-sorbet: #ffb142;\n",
      "    spiced-butternut: #ffda79;\n",
      "    eye-of-newt: #b33939;\n",
      "    chilean-fire: #cd6133;\n",
      "    grey-porcelain: #84817a;\n",
      "    alameda-ochre: #cc8e35;\n",
      "    desert: #ccae62;\n",
      "}\n"
     ]
    }
   ],
   "source": [
    "print(format_less_ruleset(prefix, colors))"
   ]
  },
  {
   "cell_type": "code",
   "execution_count": 15,
   "metadata": {},
   "outputs": [
    {
     "name": "stdout",
     "output_type": "stream",
     "text": [
      ":root: {\n",
      "    --jacksons-purple: #40407a;\n",
      "    --c64-purple: #706fd3;\n",
      "    --swan-white: #f7f1e3;\n",
      "    --summer-sky: #34ace0;\n",
      "    --celestial-green: #33d9b2;\n",
      "    --lucky-point: #2c2c54;\n",
      "    --liberty: #474787;\n",
      "    --hot-stone: #aaa69d;\n",
      "    --devil-blue: #227093;\n",
      "    --palm-springs-splash: #218c74;\n",
      "    --fluorescent-red: #ff5252;\n",
      "    --synthetic-pumpkin: #ff793f;\n",
      "    --crocodile-tooth: #d1ccc0;\n",
      "    --mandarin-sorbet: #ffb142;\n",
      "    --spiced-butternut: #ffda79;\n",
      "    --eye-of-newt: #b33939;\n",
      "    --chilean-fire: #cd6133;\n",
      "    --grey-porcelain: #84817a;\n",
      "    --alameda-ochre: #cc8e35;\n",
      "    --desert: #ccae62;\n",
      "}\n"
     ]
    }
   ],
   "source": [
    "print(format_css_ruleset(colors))"
   ]
  }
 ],
 "metadata": {
  "kernelspec": {
   "display_name": "Python (scraping)",
   "language": "python",
   "name": "scraping"
  },
  "language_info": {
   "codemirror_mode": {
    "name": "ipython",
    "version": 3
   },
   "file_extension": ".py",
   "mimetype": "text/x-python",
   "name": "python",
   "nbconvert_exporter": "python",
   "pygments_lexer": "ipython3",
   "version": "3.7.1"
  }
 },
 "nbformat": 4,
 "nbformat_minor": 2
}
